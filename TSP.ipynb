{
 "cells": [
  {
   "cell_type": "markdown",
   "metadata": {},
   "source": [
    "Copyright **`(c)`** 2024 Giovanni Squillero `<giovanni.squillero@polito.it>`  \n",
    "[`https://github.com/squillero/computational-intelligence`](https://github.com/squillero/computational-intelligence)  \n",
    "Free for personal or classroom use; see [`LICENSE.md`](https://github.com/squillero/computational-intelligence/blob/master/LICENSE.md) for details.  "
   ]
  },
  {
   "cell_type": "markdown",
   "metadata": {},
   "source": [
    "# Travelling salesman problem"
   ]
  },
  {
   "cell_type": "code",
   "execution_count": 11,
   "metadata": {},
   "outputs": [],
   "source": [
    "import pandas as pd\n",
    "import numpy as np\n",
    "import itertools\n",
    "import sys\n",
    "from geopy.distance import geodesic\n",
    "from tqdm import tqdm\n",
    "import random"
   ]
  },
  {
   "cell_type": "markdown",
   "metadata": {},
   "source": [
    "## Loading csv datas"
   ]
  },
  {
   "cell_type": "code",
   "execution_count": 12,
   "metadata": {},
   "outputs": [],
   "source": [
    "CITIES = pd.read_csv('china.csv', header=None, names=['name', 'lat', 'lon'])"
   ]
  },
  {
   "cell_type": "code",
   "execution_count": null,
   "metadata": {},
   "outputs": [],
   "source": [
    "# Create the distance matrix using geodesic distances\n",
    "DIST_MATRIX = np.zeros((len(CITIES), len(CITIES)))\n",
    "for c1, c2 in itertools.combinations(CITIES.itertuples(), 2):\n",
    "    DIST_MATRIX[c1.Index, c2.Index] = DIST_MATRIX[c2.Index, c1.Index] = geodesic(\n",
    "        (c1.lat, c1.lon), (c2.lat, c2.lon)\n",
    "    ).km\n"
   ]
  },
  {
   "cell_type": "markdown",
   "metadata": {},
   "source": [
    "## Greedy nearest neighbor with evoulutionary inver over crossover"
   ]
  },
  {
   "cell_type": "code",
   "execution_count": null,
   "metadata": {},
   "outputs": [],
   "source": [
    "\n",
    "# Greedy heuristic to generate initial population\n",
    "def greedy_heuristic(dists, population_size):\n",
    "    def nearest_neighbor(start):\n",
    "        n = len(dists)\n",
    "        visited = [False] * n\n",
    "        path = [start]\n",
    "        visited[start] = True\n",
    "        for _ in range(n - 1):\n",
    "            last = path[-1]\n",
    "            nearest = None\n",
    "            nearest_dist = float('inf')\n",
    "            for i in range(n):\n",
    "                if not visited[i] and dists[last][i] < nearest_dist:\n",
    "                    nearest = i\n",
    "                    nearest_dist = dists[last][i]\n",
    "            path.append(nearest)\n",
    "            visited[nearest] = True\n",
    "        path.append(start)\n",
    "        return path\n",
    "\n",
    "    population = []\n",
    "    for _ in range(population_size // 2):\n",
    "        start = random.randint(0, len(dists) - 1)\n",
    "        path = nearest_neighbor(start)\n",
    "        population.append(path)\n",
    "\n",
    "    # Add random paths to increase diversity\n",
    "    for _ in range(population_size // 2):\n",
    "        path = list(range(1, len(dists)))\n",
    "        random.shuffle(path)\n",
    "        path = [0] + path + [0]\n",
    "        population.append(path)\n",
    "\n",
    "    return population\n",
    "\n",
    "# Local search to improve individuals\n",
    "def local_search(path, dists):\n",
    "    def calculate_cost(path):\n",
    "        return sum(dists[path[i], path[i + 1]] for i in range(len(path) - 1))\n",
    "\n",
    "    best_cost = calculate_cost(path)\n",
    "    best_path = path[:]\n",
    "    for i in range(1, len(path) - 2):\n",
    "        for j in range(i + 1, len(path) - 1):\n",
    "            new_path = path[:]\n",
    "            new_path[i:j+1] = reversed(new_path[i:j+1])\n",
    "            new_cost = calculate_cost(new_path)\n",
    "            if new_cost < best_cost:\n",
    "                best_cost = new_cost\n",
    "                best_path = new_path\n",
    "    return best_path\n",
    "\n",
    "# Evolutionary Algorithm for TSP with improvements\n",
    "def evolutionary_algorithm(dists, population_size, mutation_rate, generations):\n",
    "    def calculate_cost(path):\n",
    "        return sum(dists[path[i], path[i + 1]] for i in range(len(path) - 1))\n",
    "\n",
    "    def create_initial_population():\n",
    "        return greedy_heuristic(dists, population_size)\n",
    "\n",
    "    def inver_over_crossover(parent1, parent2):\n",
    "        child = parent1[:]\n",
    "        for i in range(1, len(child) - 1):\n",
    "            if random.random() < 0.5:\n",
    "                j = random.choice(range(1, len(child) - 1))\n",
    "                if random.random() < 0.5:\n",
    "                    child[i:j+1] = reversed(child[i:j+1])\n",
    "                else:\n",
    "                    child[i], child[j] = child[j], child[i]\n",
    "        return child\n",
    "\n",
    "    def mutate(path):\n",
    "        if random.random() < mutation_rate:\n",
    "            i, j = random.sample(range(1, len(path) - 1), 2)\n",
    "            path[i], path[j] = path[j], path[i]\n",
    "\n",
    "    def select_parents(population):\n",
    "        return random.choices(population, weights=[1 / calculate_cost(p) for p in population], k=2)\n",
    "\n",
    "    population = create_initial_population()\n",
    "    best_path = min(population, key=calculate_cost)\n",
    "    best_cost = calculate_cost(best_path)\n",
    "\n",
    "    for generation in tqdm(range(generations), desc=\"Evolutionary Algorithm\"):\n",
    "        new_population = []\n",
    "        # Elitism: Preserve the best individual\n",
    "        new_population.append(best_path)\n",
    "        for _ in range(population_size - 1):\n",
    "            parent1, parent2 = select_parents(population)\n",
    "            child = inver_over_crossover(parent1, parent2)\n",
    "            mutate(child)\n",
    "            child = local_search(child, dists)  # Apply local search\n",
    "            new_population.append(child)\n",
    "        population = new_population\n",
    "\n",
    "        current_best_path = min(population, key=calculate_cost)\n",
    "        current_best_cost = calculate_cost(current_best_path)\n",
    "        if current_best_cost < best_cost:\n",
    "            best_path = current_best_path\n",
    "            best_cost = current_best_cost\n",
    "\n",
    "        # Adaptive mutation rate\n",
    "        mutation_rate = max(0.01, mutation_rate * 0.99)\n",
    "\n",
    "    return best_cost, best_path\n"
   ]
  },
  {
   "cell_type": "code",
   "execution_count": null,
   "metadata": {},
   "outputs": [
    {
     "name": "stderr",
     "output_type": "stream",
     "text": [
      "Evolutionary Algorithm:   0%|          | 0/100 [00:00<?, ?it/s]"
     ]
    },
    {
     "name": "stderr",
     "output_type": "stream",
     "text": [
      "Evolutionary Algorithm: 100%|██████████| 100/100 [00:58<00:00,  1.71it/s]"
     ]
    },
    {
     "name": "stdout",
     "output_type": "stream",
     "text": [
      "Approximate cost: 4436.03 km\n",
      "Approximate path: ['Rimini', 'Forlì', 'Ravenna', 'Ferrara', 'Bologna', 'Modena', \"Reggio nell'Emilia\", 'Parma', 'Piacenza', 'Milan', 'Monza', 'Bergamo', 'Brescia', 'Verona', 'Vicenza', 'Padua', 'Venice', 'Trieste', 'Bolzano', 'Trento', 'Novara', 'Turin', 'Genoa', 'Leghorn', 'Prato', 'Florence', 'Perugia', 'Terni', 'Rome', 'Latina', 'Giugliano in Campania', 'Naples', 'Salerno', 'Foggia', 'Andria', 'Bari', 'Taranto', 'Messina', 'Reggio di Calabria', 'Catania', 'Syracuse', 'Palermo', 'Cagliari', 'Sassari', 'Pescara', 'Ancona', 'Rimini']\n"
     ]
    },
    {
     "name": "stderr",
     "output_type": "stream",
     "text": [
      "\n"
     ]
    }
   ],
   "source": [
    "population_size = 100\n",
    "mutation_rate = 0.05\n",
    "generations = 100\n",
    "\n",
    "# Solve the TSP using the Evolutionary Algorithm with improvements\n",
    "opt_cost, opt_path = evolutionary_algorithm(DIST_MATRIX, population_size, mutation_rate, generations)\n",
    "\n",
    "# Convert the path indices to city names\n",
    "opt_path_cities = [CITIES['name'][i] for i in opt_path]\n",
    "\n",
    "print(f\"Approximate cost: {opt_cost:.2f} km\")\n",
    "print(f\"Approximate path: {opt_path_cities}\")"
   ]
  }
 ],
 "metadata": {
  "kernelspec": {
   "display_name": "CI_2024",
   "language": "python",
   "name": "python3"
  },
  "language_info": {
   "codemirror_mode": {
    "name": "ipython",
    "version": 3
   },
   "file_extension": ".py",
   "mimetype": "text/x-python",
   "name": "python",
   "nbconvert_exporter": "python",
   "pygments_lexer": "ipython3",
   "version": "3.12.6"
  }
 },
 "nbformat": 4,
 "nbformat_minor": 2
}
